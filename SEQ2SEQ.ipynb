{
 "cells": [
  {
   "cell_type": "code",
   "execution_count": 3,
   "metadata": {
    "colab": {
     "base_uri": "https://localhost:8080/"
    },
    "id": "0uR40BjVpM8I",
    "outputId": "01673364-33e5-40be-cbdd-144dfc345b31"
   },
   "outputs": [
    {
     "name": "stdout",
     "output_type": "stream",
     "text": [
      "Drive already mounted at /content/drive; to attempt to forcibly remount, call drive.mount(\"/content/drive\", force_remount=True).\n"
     ]
    }
   ],
   "source": [
    "from google.colab import drive\n",
    "drive.mount('/content/drive')"
   ]
  },
  {
   "cell_type": "code",
   "execution_count": 4,
   "metadata": {
    "colab": {
     "base_uri": "https://localhost:8080/"
    },
    "id": "sIRWAL5ApGCz",
    "outputId": "6234c60b-97c8-4b73-8bf0-cd99556c0cd9"
   },
   "outputs": [
    {
     "name": "stdout",
     "output_type": "stream",
     "text": [
      "##################################\n",
      "#       Preprocessing            #\n",
      "##################################\n"
     ]
    }
   ],
   "source": [
    "import re\n",
    "print('##################################')\n",
    "print('#       Preprocessing            #')\n",
    "print('##################################')\n",
    "lines = open('/content/movie_lines.txt', encoding='utf-8',errors='ignore').read().split('\\n')\n",
    "#errors will ignore the error\n",
    "convers = open('/content/movie_conversations.txt', encoding='utf-8',errors='ignore').read().split('\\n')\n",
    "\n",
    "\n",
    "\n",
    "# We need only coversation and their unique_id\n",
    "exchn = []\n",
    "for conver in convers:\n",
    "    exchn.append(conver.split(' +++$+++ ')[-1][1:-1].replace(\"'\", \" \").replace(\",\",\"\").split())\n",
    "    \n",
    "\n",
    "\n",
    "# We need the sequence of the conversation\n",
    "#Creating list with question with answer\n",
    "diag = {}\n",
    "for line in lines:\n",
    "    diag[line.split(' +++$+++ ')[0]] = line.split(' +++$+++ ')[-1]\n",
    "\n",
    "\n",
    "questions = []\n",
    "answers = []\n",
    "\n",
    "for conver in exchn:\n",
    "    for i in range(len(conver) - 1):\n",
    "        questions.append(diag[conver[i]])\n",
    "        answers.append(diag[conver[i+1]])"
   ]
  },
  {
   "cell_type": "code",
   "execution_count": 5,
   "metadata": {
    "colab": {
     "base_uri": "https://localhost:8080/"
    },
    "id": "HPbD4w91rpjg",
    "outputId": "71de21a1-e6d3-4c66-c62b-88fa8c6bc23b"
   },
   "outputs": [
    {
     "data": {
      "text/plain": [
       "('Can we make this quick?  Roxanne Korrine and Andrew Barrett are having an incredibly horrendous public break- up on the quad.  Again.',\n",
       " \"Well, I thought we'd start with pronunciation, if that's okay with you.\")"
      ]
     },
     "execution_count": 5,
     "metadata": {},
     "output_type": "execute_result"
    }
   ],
   "source": [
    "# question and there answer\n",
    "questions[0],answers[0]"
   ]
  },
  {
   "cell_type": "code",
   "execution_count": 6,
   "metadata": {
    "id": "Nt5g7dFJrTtF"
   },
   "outputs": [],
   "source": [
    "# Creating a fixed length code i.e 13\n",
    "sorted_ques = []\n",
    "sorted_ans = []\n",
    "for i in range(len(questions)):\n",
    "    if len(questions[i]) < 13:\n",
    "        sorted_ques.append(questions[i])\n",
    "        sorted_ans.append(answers[i])\n",
    "\n",
    "\n",
    "# changing the text with there\n",
    "def clean_text(txt):\n",
    "    txt = txt.lower()\n",
    "    txt = re.sub(r\"i'm\", \"i am\", txt)\n",
    "    txt = re.sub(r\"he's\", \"he is\", txt)\n",
    "    txt = re.sub(r\"she's\", \"she is\", txt)\n",
    "    txt = re.sub(r\"that's\", \"that is\", txt)\n",
    "    txt = re.sub(r\"what's\", \"what is\", txt)\n",
    "    txt = re.sub(r\"where's\", \"where is\", txt)\n",
    "    txt = re.sub(r\"\\'ll\", \" will\", txt)\n",
    "    txt = re.sub(r\"\\'ve\", \" have\", txt)\n",
    "    txt = re.sub(r\"\\'re\", \" are\", txt)\n",
    "    txt = re.sub(r\"\\'d\", \" would\", txt)\n",
    "    txt = re.sub(r\"won't\", \"will not\", txt)\n",
    "    txt = re.sub(r\"can't\", \"can not\", txt)\n",
    "    txt = re.sub(r\"[^\\w\\s]\", \"\", txt)\n",
    "    return txt\n",
    "\n",
    "\n",
    "# Cleaning Punctuation and Cleaned\n",
    "clean_ques = []\n",
    "clean_ans = []\n",
    "\n",
    "for line in sorted_ques:\n",
    "    clean_ques.append(clean_text(line))\n",
    "        \n",
    "for line in sorted_ans:\n",
    "    clean_ans.append(clean_text(line))\n",
    "\n",
    "\n",
    "\n",
    "\n",
    "\n",
    "\n",
    "for i in range(len(clean_ans)):\n",
    "    clean_ans[i] = ' '.join(clean_ans[i].split()[:11])"
   ]
  },
  {
   "cell_type": "code",
   "execution_count": 7,
   "metadata": {
    "colab": {
     "base_uri": "https://localhost:8080/",
     "height": 35
    },
    "id": "IdI3Q8WAtYK2",
    "outputId": "456bbb3e-0a07-4933-f352-0273fe72b9ca"
   },
   "outputs": [
    {
     "data": {
      "application/vnd.google.colaboratory.intrinsic+json": {
       "type": "string"
      },
      "text/plain": [
       "'the thing is cameron i am at the mercy of a'"
      ]
     },
     "execution_count": 7,
     "metadata": {},
     "output_type": "execute_result"
    }
   ],
   "source": [
    "clean_ans[0]"
   ]
  },
  {
   "cell_type": "code",
   "execution_count": 8,
   "metadata": {
    "id": "Uq3uuj40rYQ8"
   },
   "outputs": [],
   "source": [
    "## trimming\n",
    "clean_ans=clean_ans[:30000]\n",
    "clean_ques=clean_ques[:30000]\n",
    "\n",
    "\n",
    "\n",
    "###  count occurences less occurance ###\n",
    "word2count = {}\n",
    "\n",
    "for line in clean_ques:\n",
    "    for word in line.split():\n",
    "        if word not in word2count:\n",
    "            word2count[word] = 1\n",
    "        else:\n",
    "            word2count[word] += 1\n",
    "for line in clean_ans:\n",
    "    for word in line.split():\n",
    "        if word not in word2count:\n",
    "            word2count[word] = 1\n",
    "        else:\n",
    "            word2count[word] += 1\n",
    "\n",
    "\n",
    "\n",
    "\n",
    "###  remove less frequent ###\n",
    "thresh = 5\n",
    "\n",
    "vocab = {}\n",
    "word_num = 0\n",
    "for word, count in word2count.items():\n",
    "    if count >= thresh:\n",
    "        vocab[word] = word_num\n",
    "        word_num += 1"
   ]
  },
  {
   "cell_type": "code",
   "execution_count": 9,
   "metadata": {
    "id": "6qrgj4naubad"
   },
   "outputs": [],
   "source": [
    "# Add SOS and EOS\n",
    "for i in range(len(clean_ans)):\n",
    "    clean_ans[i] = '<SOS> ' + clean_ans[i] + ' <EOS>'\n",
    "\n",
    "\n",
    "\n",
    "tokens = ['<PAD>', '<EOS>', '<OUT>', '<SOS>']\n",
    "x = len(vocab)\n",
    "for token in tokens:\n",
    "    vocab[token] = x\n",
    "    x += 1\n",
    "    \n",
    "    \n",
    "\n",
    "vocab['cameron'] = vocab['<PAD>']\n",
    "vocab['<PAD>'] = 0\n",
    "\n",
    "\n",
    "\n",
    "### inv answers dict ###\n",
    "inv_vocab = {w:v for v, w in vocab.items()}\n",
    "\n",
    "\n",
    "encoder_inp = []\n",
    "for line in clean_ques:\n",
    "    lst = []\n",
    "    for word in line.split():\n",
    "        if word not in vocab:\n",
    "            lst.append(vocab['<OUT>'])\n",
    "        else:\n",
    "            lst.append(vocab[word])\n",
    "        \n",
    "    encoder_inp.append(lst)\n",
    "\n",
    "decoder_inp = []\n",
    "for line in clean_ans:\n",
    "    lst = []\n",
    "    for word in line.split():\n",
    "        if word not in vocab:\n",
    "            lst.append(vocab['<OUT>'])\n",
    "        else:\n",
    "            lst.append(vocab[word])        \n",
    "    decoder_inp.append(lst)\n"
   ]
  },
  {
   "cell_type": "code",
   "execution_count": 10,
   "metadata": {
    "colab": {
     "base_uri": "https://localhost:8080/"
    },
    "id": "yJlGdmlRvcK_",
    "outputId": "4faaebff-0b8f-4c09-995f-49b648481096"
   },
   "outputs": [
    {
     "data": {
      "text/plain": [
       "('<SOS> the thing is cameron i am at the mercy of a <EOS>', [3024])"
      ]
     },
     "execution_count": 10,
     "metadata": {},
     "output_type": "execute_result"
    }
   ],
   "source": [
    "clean_ans[0],encoder_inp[0]"
   ]
  },
  {
   "cell_type": "code",
   "execution_count": 11,
   "metadata": {
    "id": "ofxbrP5AvVNF"
   },
   "outputs": [],
   "source": [
    "from tensorflow.keras.preprocessing.sequence import pad_sequences\n",
    "\n",
    "#Padding\n",
    "encoder_inp = pad_sequences(encoder_inp, 13, padding='post', truncating='post')\n",
    "decoder_inp = pad_sequences(decoder_inp, 13, padding='post', truncating='post')\n",
    "\n",
    "\n",
    "\n",
    "\n",
    "decoder_final_output = []\n",
    "for i in decoder_inp:\n",
    "    decoder_final_output.append(i[1:]) \n",
    "\n",
    "decoder_final_output = pad_sequences(decoder_final_output, 13, padding='post', truncating='post')\n",
    "\n",
    "\n",
    "\n",
    "\n",
    "from tensorflow.keras.utils import to_categorical\n",
    "decoder_final_output = to_categorical(decoder_final_output, len(vocab))"
   ]
  },
  {
   "cell_type": "code",
   "execution_count": 12,
   "metadata": {
    "colab": {
     "base_uri": "https://localhost:8080/"
    },
    "id": "aP-LWo7MwOoH",
    "outputId": "fef78dde-d42c-4139-e687-c1b12354bb48"
   },
   "outputs": [
    {
     "data": {
      "text/plain": [
       "(30000, 13)"
      ]
     },
     "execution_count": 12,
     "metadata": {},
     "output_type": "execute_result"
    }
   ],
   "source": [
    "encoder_inp.shape"
   ]
  },
  {
   "cell_type": "code",
   "execution_count": 14,
   "metadata": {
    "colab": {
     "base_uri": "https://localhost:8080/"
    },
    "id": "5_qIDPxbwK5d",
    "outputId": "1b5a47d3-2e0b-4250-d3cf-5740e6ec5e5a"
   },
   "outputs": [
    {
     "name": "stdout",
     "output_type": "stream",
     "text": [
      "Epoch 1/50\n",
      "938/938 [==============================] - 263s 275ms/step - loss: 3.0864 - acc: 0.4948\n",
      "Epoch 2/50\n",
      "938/938 [==============================] - 258s 275ms/step - loss: 2.7274 - acc: 0.5328\n",
      "Epoch 3/50\n",
      "938/938 [==============================] - 257s 275ms/step - loss: 2.6014 - acc: 0.5429\n",
      "Epoch 4/50\n",
      "938/938 [==============================] - 258s 275ms/step - loss: 2.5270 - acc: 0.5479\n",
      "Epoch 5/50\n",
      "938/938 [==============================] - 259s 276ms/step - loss: 2.4691 - acc: 0.5509\n",
      "Epoch 6/50\n",
      "938/938 [==============================] - 257s 274ms/step - loss: 2.4198 - acc: 0.5535\n",
      "Epoch 7/50\n",
      "938/938 [==============================] - 255s 272ms/step - loss: 2.3741 - acc: 0.5559\n",
      "Epoch 8/50\n",
      "938/938 [==============================] - 260s 277ms/step - loss: 2.3290 - acc: 0.5583\n",
      "Epoch 9/50\n",
      "938/938 [==============================] - 257s 274ms/step - loss: 2.2844 - acc: 0.5606\n",
      "Epoch 10/50\n",
      "938/938 [==============================] - 257s 273ms/step - loss: 2.2424 - acc: 0.5622\n",
      "Epoch 11/50\n",
      "938/938 [==============================] - 256s 273ms/step - loss: 2.1956 - acc: 0.5651\n",
      "Epoch 12/50\n",
      "938/938 [==============================] - 253s 269ms/step - loss: 2.1519 - acc: 0.5676\n",
      "Epoch 13/50\n",
      "938/938 [==============================] - 253s 270ms/step - loss: 2.1075 - acc: 0.5707\n",
      "Epoch 14/50\n",
      "938/938 [==============================] - 251s 267ms/step - loss: 2.0643 - acc: 0.5741\n",
      "Epoch 15/50\n",
      "938/938 [==============================] - 259s 276ms/step - loss: 2.0229 - acc: 0.5785\n",
      "Epoch 16/50\n",
      "938/938 [==============================] - 255s 272ms/step - loss: 1.9821 - acc: 0.5824\n",
      "Epoch 17/50\n",
      "938/938 [==============================] - 255s 272ms/step - loss: 1.9433 - acc: 0.5874\n",
      "Epoch 18/50\n",
      "938/938 [==============================] - 254s 270ms/step - loss: 1.9051 - acc: 0.5920\n",
      "Epoch 19/50\n",
      "938/938 [==============================] - 255s 271ms/step - loss: 1.8683 - acc: 0.5969\n",
      "Epoch 20/50\n",
      "938/938 [==============================] - 253s 270ms/step - loss: 1.8329 - acc: 0.6022\n",
      "Epoch 21/50\n",
      "938/938 [==============================] - 256s 273ms/step - loss: 1.7987 - acc: 0.6078\n",
      "Epoch 22/50\n",
      "938/938 [==============================] - 255s 272ms/step - loss: 1.7651 - acc: 0.6134\n",
      "Epoch 23/50\n",
      "938/938 [==============================] - 259s 276ms/step - loss: 1.7320 - acc: 0.6184\n",
      "Epoch 24/50\n",
      "938/938 [==============================] - 261s 278ms/step - loss: 1.7000 - acc: 0.6241\n",
      "Epoch 25/50\n",
      "938/938 [==============================] - 258s 276ms/step - loss: 1.6690 - acc: 0.6295\n",
      "Epoch 26/50\n",
      "938/938 [==============================] - 259s 277ms/step - loss: 1.6386 - acc: 0.6351\n",
      "Epoch 27/50\n",
      "938/938 [==============================] - 260s 277ms/step - loss: 1.6088 - acc: 0.6406\n",
      "Epoch 28/50\n",
      "938/938 [==============================] - 258s 275ms/step - loss: 1.5792 - acc: 0.6461\n",
      "Epoch 29/50\n",
      "938/938 [==============================] - 257s 274ms/step - loss: 1.5514 - acc: 0.6519\n",
      "Epoch 30/50\n",
      "938/938 [==============================] - 257s 274ms/step - loss: 1.5237 - acc: 0.6572\n",
      "Epoch 31/50\n",
      "938/938 [==============================] - 255s 272ms/step - loss: 1.4964 - acc: 0.6630\n",
      "Epoch 32/50\n",
      "938/938 [==============================] - 255s 272ms/step - loss: 1.4694 - acc: 0.6685\n",
      "Epoch 33/50\n",
      "938/938 [==============================] - 256s 273ms/step - loss: 1.4434 - acc: 0.6734\n",
      "Epoch 34/50\n",
      "938/938 [==============================] - 254s 271ms/step - loss: 1.4180 - acc: 0.6791\n",
      "Epoch 35/50\n",
      "938/938 [==============================] - 255s 272ms/step - loss: 1.3934 - acc: 0.6837\n",
      "Epoch 36/50\n",
      "938/938 [==============================] - 256s 273ms/step - loss: 1.3688 - acc: 0.6889\n",
      "Epoch 37/50\n",
      "938/938 [==============================] - 256s 272ms/step - loss: 1.3444 - acc: 0.6942\n",
      "Epoch 38/50\n",
      "938/938 [==============================] - 258s 275ms/step - loss: 1.3209 - acc: 0.6998\n",
      "Epoch 39/50\n",
      "938/938 [==============================] - 259s 277ms/step - loss: 1.2976 - acc: 0.7044\n",
      "Epoch 40/50\n",
      "938/938 [==============================] - 262s 279ms/step - loss: 1.2751 - acc: 0.7094\n",
      "Epoch 41/50\n",
      "938/938 [==============================] - 261s 278ms/step - loss: 1.2527 - acc: 0.7142\n",
      "Epoch 42/50\n",
      "938/938 [==============================] - 255s 272ms/step - loss: 1.2310 - acc: 0.7194\n",
      "Epoch 43/50\n",
      "938/938 [==============================] - 256s 273ms/step - loss: 1.2102 - acc: 0.7242\n",
      "Epoch 44/50\n",
      "938/938 [==============================] - 254s 271ms/step - loss: 1.1898 - acc: 0.7282\n",
      "Epoch 45/50\n",
      "938/938 [==============================] - 255s 272ms/step - loss: 1.1690 - acc: 0.7327\n",
      "Epoch 46/50\n",
      "938/938 [==============================] - 255s 272ms/step - loss: 1.1495 - acc: 0.7372\n",
      "Epoch 47/50\n",
      "938/938 [==============================] - 258s 275ms/step - loss: 1.1304 - acc: 0.7418\n",
      "Epoch 48/50\n",
      "938/938 [==============================] - 254s 271ms/step - loss: 1.1109 - acc: 0.7465\n",
      "Epoch 49/50\n",
      "938/938 [==============================] - 253s 269ms/step - loss: 1.0935 - acc: 0.7500\n",
      "Epoch 50/50\n",
      "938/938 [==============================] - 253s 269ms/step - loss: 1.0747 - acc: 0.7542\n"
     ]
    },
    {
     "data": {
      "text/plain": [
       "<keras.callbacks.History at 0x7fa9ecd872d0>"
      ]
     },
     "execution_count": 14,
     "metadata": {},
     "output_type": "execute_result"
    }
   ],
   "source": [
    "from tensorflow.keras.models import Model\n",
    "from tensorflow.keras.layers import Dense, Embedding, LSTM, Input\n",
    "\n",
    "\n",
    "enc_inp = Input(shape=(13, ))\n",
    "dec_inp = Input(shape=(13, ))\n",
    "\n",
    "\n",
    "VOCAB_SIZE = len(vocab)\n",
    "embed = Embedding(VOCAB_SIZE+1, output_dim=50, \n",
    "                  input_length=13,\n",
    "                  trainable=True                  \n",
    "                  )\n",
    "\n",
    "\n",
    "enc_embed = embed(enc_inp)\n",
    "enc_lstm = LSTM(400, return_sequences=True, return_state=True)\n",
    "enc_op, h, c = enc_lstm(enc_embed)\n",
    "enc_states = [h, c]\n",
    "\n",
    "\n",
    "\n",
    "dec_embed = embed(dec_inp)\n",
    "dec_lstm = LSTM(400, return_sequences=True, return_state=True)\n",
    "dec_op, _, _ = dec_lstm(dec_embed, initial_state=enc_states)\n",
    "\n",
    "dense = Dense(VOCAB_SIZE, activation='softmax')\n",
    "\n",
    "dense_op = dense(dec_op)\n",
    "\n",
    "model = Model([enc_inp, dec_inp], dense_op)\n",
    "\n",
    "\n",
    "\n",
    "\n",
    "model.compile(loss='categorical_crossentropy',metrics=['acc'],optimizer='adam')\n",
    "\n",
    "model.fit([encoder_inp, decoder_inp],decoder_final_output,epochs=50)"
   ]
  },
  {
   "cell_type": "code",
   "execution_count": null,
   "metadata": {
    "colab": {
     "base_uri": "https://localhost:8080/"
    },
    "id": "OTHuQLmNyFKa",
    "outputId": "53d0ef66-1fa0-44f7-99a3-925b1a3b0bf8"
   },
   "outputs": [
    {
     "name": "stdout",
     "output_type": "stream",
     "text": [
      "##########################################\n",
      "#       start chatting ver. 1.0          #\n",
      "##########################################\n",
      "you : hey\n",
      "WARNING:tensorflow:Model was constructed with shape (None, 13) for input KerasTensor(type_spec=TensorSpec(shape=(None, 13), dtype=tf.float32, name='input_4'), name='input_4', description=\"created by layer 'input_4'\"), but it was called on an input with incompatible shape (None, 1).\n",
      "chatbot attention :  hey \n",
      "==============================================\n",
      "you : whatsup?\n",
      "chatbot attention :  <OUT> \n",
      "==============================================\n",
      "you : suup?\n",
      "chatbot attention :  <OUT> \n",
      "==============================================\n",
      "you : what are you doing\n",
      "chatbot attention :  i am not sure it would be nice to spend a \n",
      "==============================================\n",
      "you : tell me some thing about\n",
      "chatbot attention :  i am not going to i am going to let you \n",
      "==============================================\n",
      "you : are you chatboit\n",
      "chatbot attention :  what \n",
      "==============================================\n",
      "you : are you chatbot\n",
      "chatbot attention :  what \n",
      "==============================================\n",
      "you : are you human being\n",
      "chatbot attention :  <OUT> \n",
      "==============================================\n",
      "you : what are you doing?\n",
      "chatbot attention :  i am not sure it would be nice to spend a \n",
      "==============================================\n",
      "you : did you eat food?\n",
      "chatbot attention :  no \n",
      "==============================================\n",
      "you : why didnt you eat?\n",
      "chatbot attention :  i am not sure \n",
      "==============================================\n",
      "you : why are not sure?\n",
      "chatbot attention :  i dont know \n",
      "==============================================\n",
      "you : tell me why \n",
      "chatbot attention :  well i am going to say one of your <OUT> to \n",
      "==============================================\n",
      "you : this is not right\n",
      "chatbot attention :  what \n",
      "==============================================\n",
      "you : you are a good boy\n",
      "chatbot attention :  i am sorry \n",
      "==============================================\n",
      "you : what is your name?\n",
      "chatbot attention :  i am not sure it would be nice to spend a \n",
      "==============================================\n"
     ]
    }
   ],
   "source": [
    "from tensorflow.keras.models import Model\n",
    "from tensorflow.keras.layers import Input\n",
    "import numpy as np\n",
    "\n",
    "enc_model = Model([enc_inp], enc_states)\n",
    "\n",
    "\n",
    "\n",
    "# decoder Model\n",
    "decoder_state_input_h = Input(shape=(400,))\n",
    "decoder_state_input_c = Input(shape=(400,))\n",
    "\n",
    "decoder_states_inputs = [decoder_state_input_h, decoder_state_input_c]\n",
    "\n",
    "\n",
    "decoder_outputs, state_h, state_c = dec_lstm(dec_embed , \n",
    "                                    initial_state=decoder_states_inputs)\n",
    "\n",
    "\n",
    "decoder_states = [state_h, state_c]\n",
    "\n",
    "\n",
    "dec_model = Model([dec_inp]+ decoder_states_inputs,\n",
    "                                      [decoder_outputs]+ decoder_states)\n",
    "\n",
    "\n",
    "\n",
    "\n",
    "from keras.preprocessing.sequence import pad_sequences\n",
    "print(\"##########################################\")\n",
    "print(\"#       start chatting ver. 1.0          #\")\n",
    "print(\"##########################################\")\n",
    "\n",
    "\n",
    "prepro1 = \"\"\n",
    "while prepro1 != 'q':\n",
    "    prepro1  = input(\"you : \")\n",
    "    ## prepro1 = \"Hello\"\n",
    "\n",
    "    prepro1 = clean_text(prepro1)\n",
    "    ## prepro1 = \"hello\"\n",
    "\n",
    "    prepro = [prepro1]\n",
    "    ## prepro1 = [\"hello\"]\n",
    "\n",
    "    txt = []\n",
    "    for x in prepro:\n",
    "        # x = \"hello\"\n",
    "        lst = []\n",
    "        for y in x.split():\n",
    "            ## y = \"hello\"\n",
    "            try:\n",
    "                lst.append(vocab[y])\n",
    "                ## vocab['hello'] = 454\n",
    "            except:\n",
    "                lst.append(vocab['<OUT>'])\n",
    "        txt.append(lst)\n",
    "\n",
    "    ## txt = [[454]]\n",
    "    txt = pad_sequences(txt, 13, padding='post')\n",
    "\n",
    "    ## txt = [[454,0,0,0,.........13]]\n",
    "\n",
    "    stat = enc_model.predict( txt )\n",
    "\n",
    "    empty_target_seq = np.zeros( ( 1 , 1) )\n",
    "     ##   empty_target_seq = [0]\n",
    "\n",
    "\n",
    "    empty_target_seq[0, 0] = vocab['<SOS>']\n",
    "    ##    empty_target_seq = [255]\n",
    "\n",
    "    stop_condition = False\n",
    "    decoded_translation = ''\n",
    "\n",
    "    while not stop_condition :\n",
    "\n",
    "        dec_outputs , h, c= dec_model.predict([ empty_target_seq] + stat )\n",
    "        decoder_concat_input = dense(dec_outputs)\n",
    "        ## decoder_concat_input = [0.1, 0.2, .4, .0, ...............]\n",
    "\n",
    "        sampled_word_index = np.argmax( decoder_concat_input[0, -1, :] )\n",
    "        ## sampled_word_index = [2]\n",
    "\n",
    "        sampled_word = inv_vocab[sampled_word_index] + ' '\n",
    "\n",
    "        ## inv_vocab[2] = 'hi'\n",
    "        ## sampled_word = 'hi '\n",
    "\n",
    "        if sampled_word != '<EOS> ':\n",
    "            decoded_translation += sampled_word  \n",
    "\n",
    "        if sampled_word == '<EOS> ' or len(decoded_translation.split()) > 13:\n",
    "            stop_condition = True \n",
    "\n",
    "        empty_target_seq = np.zeros( ( 1 , 1 ) )  \n",
    "        empty_target_seq[ 0 , 0 ] = sampled_word_index\n",
    "        ## <SOS> - > hi\n",
    "        ## hi --> <EOS>\n",
    "        stat = [h, c]  \n",
    "\n",
    "    print(\"chatbot attention : \", decoded_translation )\n",
    "    print(\"==============================================\")  "
   ]
  },
  {
   "cell_type": "code",
   "execution_count": null,
   "metadata": {
    "id": "PQ49c3EZD9ku"
   },
   "outputs": [],
   "source": []
  }
 ],
 "metadata": {
  "colab": {
   "name": "SEQ2SEQ.ipynb",
   "provenance": []
  },
  "kernelspec": {
   "display_name": "Python 3",
   "language": "python",
   "name": "python3"
  },
  "language_info": {
   "codemirror_mode": {
    "name": "ipython",
    "version": 3
   },
   "file_extension": ".py",
   "mimetype": "text/x-python",
   "name": "python",
   "nbconvert_exporter": "python",
   "pygments_lexer": "ipython3",
   "version": "3.6.13"
  }
 },
 "nbformat": 4,
 "nbformat_minor": 1
}
